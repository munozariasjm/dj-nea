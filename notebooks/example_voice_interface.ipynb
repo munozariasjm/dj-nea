{
 "cells": [
  {
   "cell_type": "code",
   "execution_count": 2,
   "metadata": {},
   "outputs": [],
   "source": [
    "import sys\n",
    "sys.path.append('../src/')\n",
    "from os.path import join, dirname\n",
    "from dotenv import load_dotenv\n",
    "from voice_interaction import speak_text\n",
    "dotenv_path = join( '../secrets/.env')\n",
    "load_dotenv(dotenv_path)"
   ]
  },
  {
   "cell_type": "code",
   "execution_count": 5,
   "metadata": {},
   "outputs": [],
   "source": [
    "from gtts import gTTS\n",
    "import os\n",
    "import tempfile\n",
    "import playsound\n",
    "\n",
    "def speak_text(text):\n",
    "    \"\"\"\n",
    "    Uses Google Text-to-Speech (gTTS) for more natural-sounding TTS.\n",
    "    \"\"\"\n",
    "    try:\n",
    "        tts = gTTS(text, lang='en')\n",
    "        with tempfile.NamedTemporaryFile(delete=True, suffix=\".mp3\") as temp_audio_file:\n",
    "            tts.save(temp_audio_file.name)\n",
    "            playsound.playsound(temp_audio_file.name)\n",
    "    except Exception as e:\n",
    "        print(f\"Error using gTTS: {e}\")\n"
   ]
  },
  {
   "cell_type": "code",
   "execution_count": 7,
   "metadata": {},
   "outputs": [],
   "source": [
    "speak_text(\"Juanse mama bicho, I am the proper NEA\")\n"
   ]
  },
  {
   "cell_type": "code",
   "execution_count": 8,
   "metadata": {},
   "outputs": [
    {
     "ename": "",
     "evalue": "",
     "output_type": "error",
     "traceback": [
      "\u001b[1;31mThe Kernel crashed while executing code in the current cell or a previous cell. \n",
      "\u001b[1;31mPlease review the code in the cell(s) to identify a possible cause of the failure. \n",
      "\u001b[1;31mClick <a href='https://aka.ms/vscodeJupyterKernelCrash'>here</a> for more info. \n",
      "\u001b[1;31mView Jupyter <a href='command:jupyter.viewOutput'>log</a> for further details."
     ]
    }
   ],
   "source": [
    "import keyboard"
   ]
  },
  {
   "cell_type": "code",
   "execution_count": null,
   "metadata": {},
   "outputs": [],
   "source": []
  }
 ],
 "metadata": {
  "kernelspec": {
   "display_name": "envEduardo",
   "language": "python",
   "name": "python3"
  },
  "language_info": {
   "codemirror_mode": {
    "name": "ipython",
    "version": 3
   },
   "file_extension": ".py",
   "mimetype": "text/x-python",
   "name": "python",
   "nbconvert_exporter": "python",
   "pygments_lexer": "ipython3",
   "version": "3.11.10"
  }
 },
 "nbformat": 4,
 "nbformat_minor": 2
}
