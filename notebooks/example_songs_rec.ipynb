{
 "cells": [
  {
   "cell_type": "code",
   "execution_count": 1,
   "metadata": {},
   "outputs": [
    {
     "data": {
      "text/plain": [
       "True"
      ]
     },
     "execution_count": 1,
     "metadata": {},
     "output_type": "execute_result"
    }
   ],
   "source": [
    "import sys\n",
    "sys.path.append('../src/')\n",
    "from os.path import join, dirname\n",
    "from dotenv import load_dotenv\n",
    "from chatgpt_handler import NextSongsSuggester\n",
    "dotenv_path = join( '../secrets/.env')\n",
    "load_dotenv(dotenv_path)"
   ]
  },
  {
   "cell_type": "code",
   "execution_count": 3,
   "metadata": {},
   "outputs": [
    {
     "name": "stdout",
     "output_type": "stream",
     "text": [
      "Recommended Songs:\n",
      "Thinking Out Loud - Ed Sheeran\n",
      "Wildest Dreams - Taylor Swift\n",
      "Rolling in the Deep - Adele\n",
      "A Thousand Miles - Vanessa Carlton\n",
      "Unwritten - Natasha Bedingfield\n"
     ]
    }
   ],
   "source": [
    "# Import the NextSongsSuggester from chatgpt_handler\n",
    "from chatgpt_handler import NextSongsSuggester\n",
    "\n",
    "# Initialize the suggester with the desired number of recommendations\n",
    "suggester = NextSongsSuggester(\n",
    "    n_recommendations=5,\n",
    ")\n",
    "\n",
    "# Collect user description and activity as needed for testing (skip if testing without user input)\n",
    "suggester.user_description = \"The user loves upbeat pop music with strong vocals and enjoys artists like Taylor Swift and Ed Sheeran.\"\n",
    "suggester.activity = \"Listening while working on a hackathon.\"\n",
    "\n",
    "# Provide user input and previous songs\n",
    "user_input = \"I'm feeling nostalgic today.\"\n",
    "previous_songs = [\n",
    "    \"Someone Like You - Adele\",\n",
    "    \"Photograph - Ed Sheeran\",\n",
    "    \"Back to December - Taylor Swift\",\n",
    "]\n",
    "\n",
    "# Get song recommendations\n",
    "recommendations = suggester(\n",
    "    input_from_user=user_input,\n",
    "    prev_songs=previous_songs,\n",
    ")\n",
    "\n",
    "print(\"Recommended Songs:\")\n",
    "for song in recommendations:\n",
    "    print(song)\n"
   ]
  },
  {
   "cell_type": "code",
   "execution_count": null,
   "metadata": {},
   "outputs": [],
   "source": []
  }
 ],
 "metadata": {
  "kernelspec": {
   "display_name": "envEduardo",
   "language": "python",
   "name": "python3"
  },
  "language_info": {
   "codemirror_mode": {
    "name": "ipython",
    "version": 3
   },
   "file_extension": ".py",
   "mimetype": "text/x-python",
   "name": "python",
   "nbconvert_exporter": "python",
   "pygments_lexer": "ipython3",
   "version": "3.11.10"
  }
 },
 "nbformat": 4,
 "nbformat_minor": 2
}
